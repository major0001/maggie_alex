{
  "nbformat": 4,
  "nbformat_minor": 0,
  "metadata": {
    "colab": {
      "provenance": [],
      "authorship_tag": "ABX9TyOa//YQB9kdMb3tZCjfGj+A",
      "include_colab_link": true
    },
    "kernelspec": {
      "name": "python3",
      "display_name": "Python 3"
    },
    "language_info": {
      "name": "python"
    }
  },
  "cells": [
    {
      "cell_type": "markdown",
      "metadata": {
        "id": "view-in-github",
        "colab_type": "text"
      },
      "source": [
        "<a href=\"https://colab.research.google.com/github/major0001/maggie_alex/blob/main/copy_of_exams_to_students.ipynb\" target=\"_parent\"><img src=\"https://colab.research.google.com/assets/colab-badge.svg\" alt=\"Open In Colab\"/></a>"
      ]
    },
    {
      "cell_type": "code",
      "source": [
        "pip install z3-solver"
      ],
      "metadata": {
        "id": "1Cmqcqw_frR7",
        "colab": {
          "base_uri": "https://localhost:8080/"
        },
        "outputId": "d86fb3e7-68c4-4b3d-b66e-7548522a53f7"
      },
      "execution_count": null,
      "outputs": [
        {
          "output_type": "stream",
          "name": "stdout",
          "text": [
            "Looking in indexes: https://pypi.org/simple, https://us-python.pkg.dev/colab-wheels/public/simple/\n",
            "Requirement already satisfied: z3-solver in /usr/local/lib/python3.7/dist-packages (4.11.2.0)\n"
          ]
        }
      ]
    },
    {
      "cell_type": "code",
      "execution_count": null,
      "metadata": {
        "id": "GVvDfxZ8fXv-"
      },
      "outputs": [],
      "source": [
        "from z3 import *\n",
        "import re"
      ]
    },
    {
      "cell_type": "code",
      "source": [
        "class Instance:\n",
        " def __init__(self):\n",
        "\n",
        "   self.number_of_students = 0\n",
        "   self.number_of_exams = 0\n",
        "   self.number_of_slots = 0\n",
        "   self.number_of_rooms = 0\n",
        "   self.room_capacities = []\n",
        "   self.exams_to_students = []"
      ],
      "metadata": {
        "id": "Ekcxmf5cgDUi"
      },
      "execution_count": null,
      "outputs": []
    },
    {
      "cell_type": "code",
      "source": [
        "def read_file(filename):\n",
        "  def read_attribute(name):\n",
        "    line = f.readline()\n",
        "    match = re.match(f'{name}:\\\\s*(\\\\d+)$', line)\n",
        "    if match:\n",
        "      return int(match.group(1))\n",
        "    else:\n",
        "      raise Exception(\"Could not parse line {line}; expected the {name} attribute\")\n",
        "  \n",
        "  instance = Instance() \n",
        "  with open(filename) as f:\n",
        "   instance.number_of_students = read_attribute(\"Number of students\")\n",
        "   instance.number_of_exams = read_attribute(\"Number of exams\")\n",
        "   instance.number_of_slots = read_attribute(\"Number of slots\")\n",
        "   instance.number_of_rooms = read_attribute(\"Number of rooms\")\n",
        "\n",
        "   for r in range(instance.number_of_rooms):\n",
        "     instance.room_capacities.append(read_attribute(f\"Room {r} capacity\"))\n",
        "   \n",
        "   while True:\n",
        "     l = f.readline()\n",
        "     if l == \"\":\n",
        "       break;\n",
        "     m = re.match('^\\\\s*(\\\\d+)\\\\s+(\\\\d+)\\\\s*$', l)\n",
        "     if m:\n",
        "       instance.exams_to_students.append((int(m.group(1)), int(m.group(2))))\n",
        "     else:\n",
        "       raise Exception(f'Failed to parse this line: {l}')\n",
        "   return instance"
      ],
      "metadata": {
        "id": "jpuhnHiOgY4r"
      },
      "execution_count": null,
      "outputs": []
    },
    {
      "cell_type": "markdown",
      "source": [
        "# Solver\n"
      ],
      "metadata": {
        "id": "AyLj5_jc5hbh"
      }
    },
    {
      "cell_type": "code",
      "source": [
        "def solve(instance):\n",
        "    if instance.number_of_slots >= instance.number_of_students:\n",
        "       s.check() == sat\n",
        "    else:\n",
        "       s.check() == unsat \n",
        "    if instance.number_of_slots >= instance.number_of_exams:\n",
        "       s.check() == sat\n",
        "    else:\n",
        "       s.check() == unsat \n",
        "    if instance.number_of_slots > instance.number_of_students:\n",
        "       s.check() == sat\n",
        "    else:\n",
        "       s.check() == unsat \n",
        "    \n",
        "    s = Solver()\n",
        "    s.check()\n",
        "    return s.check()\n"
      ],
      "metadata": {
        "id": "pkCGv0YLki1V"
      },
      "execution_count": null,
      "outputs": []
    },
    {
      "cell_type": "code",
      "source": [
        "if __name__ == '__main__':\n",
        " inst = read_file('sat1.txt')\n",
        " solve(inst)"
      ],
      "metadata": {
        "id": "ihhjdpYnl_1U"
      },
      "execution_count": null,
      "outputs": []
    },
    {
      "cell_type": "code",
      "source": [
        "s = Solver()\n",
        "s.check()\n",
        "x = Bool(\"x\")\n",
        "y = Bool(\"y\")\n",
        "x_or_y = Or([x,y]) # disjunction\n",
        "x_and_y = And([x,y]) # conjunction\n",
        "not_x = Not(x) # negation\n",
        "x_or_y_iff_not_x = x_and_y == not_x # This is the formula (x_or_y <=> not_x) not a boolean!\n",
        "s = Solver() # create a solver s\n",
        "s.add(x_or_y) # add the clause: x or y\n",
        "z = Bool(\"z\")\n",
        "\n",
        "s.check()\n",
        "\n",
        "s.model()"
      ],
      "metadata": {
        "colab": {
          "base_uri": "https://localhost:8080/",
          "height": 34
        },
        "id": "314W4PsDzGJb",
        "outputId": "c8a4e830-c838-47c0-cf7b-7e7a4a3a9d6f"
      },
      "execution_count": null,
      "outputs": [
        {
          "output_type": "execute_result",
          "data": {
            "text/plain": [
              "[y = False, x = True]"
            ],
            "text/html": [
              "[y = False, x = True]"
            ]
          },
          "metadata": {},
          "execution_count": 23
        }
      ]
    },
    {
      "cell_type": "code",
      "source": [
        "s = Solver() # create a solver s\n",
        "s.check()\n"
      ],
      "metadata": {
        "colab": {
          "base_uri": "https://localhost:8080/",
          "height": 34
        },
        "id": "iHDDWQqZA39C",
        "outputId": "08848217-a41f-4825-9344-c671c8a76287"
      },
      "execution_count": null,
      "outputs": [
        {
          "output_type": "execute_result",
          "data": {
            "text/plain": [
              "sat"
            ],
            "text/html": [
              "<b>sat</b>"
            ]
          },
          "metadata": {},
          "execution_count": 28
        }
      ]
    }
  ]
}